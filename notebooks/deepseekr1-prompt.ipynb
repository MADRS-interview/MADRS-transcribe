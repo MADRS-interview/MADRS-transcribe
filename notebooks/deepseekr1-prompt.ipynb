{
 "cells": [
  {
   "cell_type": "code",
   "execution_count": 48,
   "id": "a82d7f99-c85b-43d3-bce6-f6bf4f42d3cf",
   "metadata": {},
   "outputs": [],
   "source": [
    "from langchain_core.messages import HumanMessage, BaseMessage\n",
    "from langchain_core.prompts import PromptTemplate\n",
    "from langchain_openai import ChatOpenAI\n",
    "from langgraph.graph import END, START, StateGraph, add_messages\n",
    "from pydantic import BaseModel, Field\n",
    "from typing import List\n",
    "\n",
    "class MadrsFieldRating(BaseModel):\n",
    "    score: int = Field(\n",
    "        description=\"The numerical score for this field.\",\n",
    "        ge=0,\n",
    "        le=6,\n",
    "    )\n",
    "    justification: str = Field(\n",
    "        description=\"A brief justification for the score given for this field.\"\n",
    "    )\n",
    "\n",
    "class MadrsRating(BaseModel):\n",
    "    apparent_sadness: MadrsFieldRating = Field(\n",
    "        description = \"The MADRS rating for apparent sadness.\"\n",
    "    )\n",
    "    reported_sadness: MadrsFieldRating = Field(\n",
    "        description = \"The MADRS rating for reported sadness.\"\n",
    "    )\n",
    "    inner_tension: MadrsFieldRating = Field(\n",
    "        description = \"The MADRS rating for inner tension.\"\n",
    "    )\n",
    "    reduced_sleep: MadrsFieldRating = Field(\n",
    "        description = \"The MADRS rating for reduced sleep.\"\n",
    "    )\n",
    "    reduced_appetite: MadrsFieldRating = Field(\n",
    "        description = \"The MADRS rating for reduced appetite.\"\n",
    "    )\n",
    "    concentration_difficulties: MadrsFieldRating = Field(\n",
    "        description = \"The MADRS rating for concentration difficulties.\"\n",
    "    )\n",
    "    lassitude: MadrsFieldRating = Field(\n",
    "        description = \"The MADRS rating for lassitude.\"\n",
    "    )\n",
    "    inability_to_feel: MadrsFieldRating = Field(\n",
    "        description = \"The MADRS rating for inability to feel.\"\n",
    "    )\n",
    "    pessimistic_thoughts: MadrsFieldRating = Field(\n",
    "        description = \"The MADRS rating for pessimistic thoughts.\"\n",
    "    )\n",
    "    suicidal_thoughts: MadrsFieldRating = Field(\n",
    "        description = \"The MADRS rating for suicidal thoughts.\"\n",
    "    )"
   ]
  },
  {
   "cell_type": "code",
   "execution_count": 57,
   "id": "ac09dc1d-45a0-4cd4-8255-5e47f18690e5",
   "metadata": {},
   "outputs": [],
   "source": [
    "llm = ChatOpenAI(\n",
    "    model = \"deepseek-r1-distill-llama-70B\",\n",
    "    base_url = \"http://localhost:8080/v1\",\n",
    "    api_key = \"NULL\",\n",
    ")"
   ]
  },
  {
   "cell_type": "code",
   "execution_count": 58,
   "id": "809b64a6-7401-4162-89db-f3d4e02f479f",
   "metadata": {},
   "outputs": [],
   "source": [
    "messages : List[BaseMessage] = list()\n",
    "with open(\"../data/interviews/transcripts/corrected/MAD-001.txt\") as transcript_file:\n",
    "    transcript = transcript_file.read()\n",
    "with open(\"../data/madrs-instructions/primer.md\") as primer_file:\n",
    "    primer = primer_file.read()\n",
    "prompt_template = PromptTemplate.from_template(\n",
    "    \"\"\"\n",
    "    You are an expert in psychiatric assessments and depression. For your\n",
    "    recollection, consider the following primer on MADRS interviews:\n",
    "\n",
    "    ---\n",
    "\n",
    "    {primer}\n",
    "\n",
    "    ---\n",
    "\n",
    "    Using this information, provide the most accurate assessment of the\n",
    "    following transcription of a MADRS interview. Provide your scores for\n",
    "    each of the items described in the primer, providing a best guess for\n",
    "    apparent sadness, together with a brief justification/discussion.\n",
    "\n",
    "    ---\n",
    "\n",
    "    {transcript}\n",
    "    \"\"\"\n",
    ")"
   ]
  },
  {
   "cell_type": "code",
   "execution_count": 59,
   "id": "552a5682-72a1-4f01-8561-33bb427f07b2",
   "metadata": {},
   "outputs": [],
   "source": [
    "messages += prompt_template.invoke(\n",
    "    {\n",
    "        \"transcript\": transcript,\n",
    "        \"primer\": primer,\n",
    "    }\n",
    ").to_messages()\n",
    "response = llm.invoke(messages)"
   ]
  },
  {
   "cell_type": "code",
   "execution_count": 72,
   "id": "c9aba978-8fd2-4302-87db-2cb3e9eba829",
   "metadata": {},
   "outputs": [
    {
     "data": {
      "text/plain": [
       "MadrsRating(apparent_sadness=MadrsFieldRating(score=3, justification=\"The patient describes their mood as a 'low mood' that can brighten with effort, indicating a moderate level of sadness.\"), reported_sadness=MadrsFieldRating(score=3, justification='The patient reports feeling sad much of the time but can still cheer up with effort.'), inner_tension=MadrsFieldRating(score=4, justification='The patient experiences situational anxiety and panic, particularly during stressful workdays.'), reduced_sleep=MadrsFieldRating(score=3, justification='The patient has difficulty falling asleep and staying asleep, waking up multiple times a night.'), reduced_appetite=MadrsFieldRating(score=4, justification='The patient has a reduced appetite during the day, eating minimally, and food does not taste good.'), concentration_difficulties=MadrsFieldRating(score=3, justification='The patient has some difficulty concentrating, especially after work due to stress and multitasking.'), lassitude=MadrsFieldRating(score=3, justification='The patient experiences difficulty starting activities and needs to push themselves to get going.'), inability_to_feel=MadrsFieldRating(score=3, justification='The patient reports less enjoyment in activities like watching TV but still enjoys social interactions and physical activities.'), pessimistic_thoughts=MadrsFieldRating(score=2, justification='The patient admits to some pessimistic thoughts but is reassured by their partner.'), suicidal_thoughts=MadrsFieldRating(score=0, justification='The patient denies any suicidal thoughts.'))"
      ]
     },
     "execution_count": 72,
     "metadata": {},
     "output_type": "execute_result"
    }
   ],
   "source": [
    "MadrsRating.model_validate_json(parse_response.content)"
   ]
  },
  {
   "cell_type": "code",
   "execution_count": 68,
   "id": "c3bd86d4-ae23-47d3-bbbd-b61747a0f23e",
   "metadata": {},
   "outputs": [
    {
     "ename": "TypeError",
     "evalue": "'AIMessage' object is not subscriptable",
     "output_type": "error",
     "traceback": [
      "\u001b[31m---------------------------------------------------------------------------\u001b[39m",
      "\u001b[31mTypeError\u001b[39m                                 Traceback (most recent call last)",
      "\u001b[36mCell\u001b[39m\u001b[36m \u001b[39m\u001b[32mIn[68]\u001b[39m\u001b[32m, line 9\u001b[39m\n\u001b[32m      7\u001b[39m parse_message = HumanMessage(\u001b[33m\"\u001b[39m\u001b[33mPlease format your previous response in the prescibed way.\u001b[39m\u001b[33m\"\u001b[39m)\n\u001b[32m      8\u001b[39m parse_response = structured_llm.invoke(messages + [response, parse_message])\n\u001b[32m----> \u001b[39m\u001b[32m9\u001b[39m \u001b[43mparse_response\u001b[49m\u001b[43m[\u001b[49m\u001b[33;43m\"\u001b[39;49m\u001b[33;43mcontent\u001b[39;49m\u001b[33;43m\"\u001b[39;49m\u001b[43m]\u001b[49m\n",
      "\u001b[31mTypeError\u001b[39m: 'AIMessage' object is not subscriptable"
     ]
    }
   ],
   "source": [
    "structured_llm = llm.bind(extra_body={\n",
    "    \"response_format\": {\n",
    "        \"type\": \"json_schema\",\n",
    "        \"json_schema\": {\"name\": \"MadrsAssessment\", \"schema\": MadrsRating.model_json_schema(), \"strict\": True}\n",
    "    }\n",
    "})\n",
    "parse_message = HumanMessage(\"Please format your previous response in the prescibed way.\")\n",
    "parse_response = structured_llm.invoke(messages + [response, parse_message])\n"
   ]
  }
 ],
 "metadata": {
  "kernelspec": {
   "display_name": "nix",
   "language": "python",
   "name": "nix"
  },
  "language_info": {
   "codemirror_mode": {
    "name": "ipython",
    "version": 3
   },
   "file_extension": ".py",
   "mimetype": "text/x-python",
   "name": "python",
   "nbconvert_exporter": "python",
   "pygments_lexer": "ipython3",
   "version": "3.12.11"
  }
 },
 "nbformat": 4,
 "nbformat_minor": 5
}
