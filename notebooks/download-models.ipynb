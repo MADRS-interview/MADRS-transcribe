{
 "cells": [
  {
   "cell_type": "code",
   "execution_count": 9,
   "id": "13613572-ee91-4398-8c18-022ce2dca0c8",
   "metadata": {},
   "outputs": [],
   "source": [
    "from huggingface_hub import snapshot_download\n",
    "\n",
    "def download_safetensors(repo_id: str) -> None:\n",
    "    snapshot_download(\n",
    "        repo_id = repo_id,\n",
    "        max_workers=1,\n",
    "        allow_patterns = \"*.safetensors\",\n",
    "    )\n",
    "\n",
    "def download_gguf(repo_id: str) -> None:\n",
    "    snapshot_download(\n",
    "        repo_id = repo_id,\n",
    "        allow_patterns = \"*Q4_K_M*.gguf\",\n",
    "    )\n",
    "    \n",
    "gguf_models = [\n",
    "#    \"unsloth/Llama-3.3-70B-Instruct-GGUF\",\n",
    "#    \"unsloth/DeepSeek-R1-Distill-Llama-70B-GGUF\",\n",
    "#    \"unsloth/Llama-4-Scout-17B-16E-Instruct-GGUF\",\n",
    "    \"bartowski/Mistral-Large-Instruct-2407-GGUF\",\n",
    "]\n",
    "safetensors_models = [\n",
    "#    \"microsoft/MediPhi-Instruct\",\n",
    "    \"microsoft/Phi-4-reasoning\",\n",
    "    \"microsoft/Phi-4-mini-flash-reasoning\",\n",
    "    \"meta-llama/Llama-3.2-1B-Instruct\",\n",
    "    \"tiiuae/Falcon-H1-34B-Instruct\",\n",
    "    \"deepseek-ai/deepseek-vl-7b-chat\",\n",
    "    \"mistralai/Voxtral-Small-24B-2507\",\n",
    "    \"mistralai/Voxtral-Mini-3B-2507\",\n",
    "    \"mistralai/Mixtral-8x7B-Instruct-v0.1\",\n",
    "    \"mistralai/Pixtral-12B-2409\",\n",
    "    \"mistralai/Magistral-Small-2506\"\n",
    "]"
   ]
  },
  {
   "cell_type": "code",
   "execution_count": null,
   "id": "7f5fbd35-4e00-46ed-89e2-32823b18a77b",
   "metadata": {},
   "outputs": [
    {
     "data": {
      "application/vnd.jupyter.widget-view+json": {
       "model_id": "a9138ea003dd426e96f4e5c84b3b8807",
       "version_major": 2,
       "version_minor": 0
      },
      "text/plain": [
       "Fetching 2 files:   0%|          | 0/2 [00:00<?, ?it/s]"
      ]
     },
     "metadata": {},
     "output_type": "display_data"
    },
    {
     "data": {
      "application/vnd.jupyter.widget-view+json": {
       "model_id": "8c6296eeafcc47e09917acfcdc54738d",
       "version_major": 2,
       "version_minor": 0
      },
      "text/plain": [
       "Mistral-Large-Instruct-2407-Q4_K_M/Mistr(…):   0%|          | 0.00/40.0G [00:00<?, ?B/s]"
      ]
     },
     "metadata": {},
     "output_type": "display_data"
    },
    {
     "data": {
      "application/vnd.jupyter.widget-view+json": {
       "model_id": "d4c67c18f2e84d448578d93deb6f7f80",
       "version_major": 2,
       "version_minor": 0
      },
      "text/plain": [
       "Mistral-Large-Instruct-2407-Q4_K_M/Mistr(…):   0%|          | 0.00/33.3G [00:00<?, ?B/s]"
      ]
     },
     "metadata": {},
     "output_type": "display_data"
    }
   ],
   "source": [
    "for model in gguf_models:\n",
    "    download_gguf(model)"
   ]
  },
  {
   "cell_type": "code",
   "execution_count": null,
   "id": "b16ee3b3-a8c1-4c03-a98b-c24fff2e5793",
   "metadata": {},
   "outputs": [
    {
     "data": {
      "application/vnd.jupyter.widget-view+json": {
       "model_id": "8a063660e8374ab48c4eeb84ada149d9",
       "version_major": 2,
       "version_minor": 0
      },
      "text/plain": [
       "Fetching 2 files:   0%|          | 0/2 [00:00<?, ?it/s]"
      ]
     },
     "metadata": {},
     "output_type": "display_data"
    },
    {
     "data": {
      "application/vnd.jupyter.widget-view+json": {
       "model_id": "956c05dcce3345e9b46503d05141a91d",
       "version_major": 2,
       "version_minor": 0
      },
      "text/plain": [
       "Fetching 6 files:   0%|          | 0/6 [00:00<?, ?it/s]"
      ]
     },
     "metadata": {},
     "output_type": "display_data"
    },
    {
     "data": {
      "application/vnd.jupyter.widget-view+json": {
       "model_id": "d5e753058ecf4fa8988360cbc961acf3",
       "version_major": 2,
       "version_minor": 0
      },
      "text/plain": [
       "Fetching 2 files:   0%|          | 0/2 [00:00<?, ?it/s]"
      ]
     },
     "metadata": {},
     "output_type": "display_data"
    },
    {
     "data": {
      "application/vnd.jupyter.widget-view+json": {
       "model_id": "cf28db725579427d841264d360504ab6",
       "version_major": 2,
       "version_minor": 0
      },
      "text/plain": [
       "Fetching 1 files:   0%|          | 0/1 [00:00<?, ?it/s]"
      ]
     },
     "metadata": {},
     "output_type": "display_data"
    },
    {
     "data": {
      "application/vnd.jupyter.widget-view+json": {
       "model_id": "7de74754229e45429500b174f708f0fa",
       "version_major": 2,
       "version_minor": 0
      },
      "text/plain": [
       "Fetching 14 files:   0%|          | 0/14 [00:00<?, ?it/s]"
      ]
     },
     "metadata": {},
     "output_type": "display_data"
    },
    {
     "data": {
      "application/vnd.jupyter.widget-view+json": {
       "model_id": "c5ecd28a454e47b6b911ed8eeea7c0f0",
       "version_major": 2,
       "version_minor": 0
      },
      "text/plain": [
       "Fetching 3 files:   0%|          | 0/3 [00:00<?, ?it/s]"
      ]
     },
     "metadata": {},
     "output_type": "display_data"
    },
    {
     "data": {
      "application/vnd.jupyter.widget-view+json": {
       "model_id": "ee344133e52d4b8baf816d842558ffb9",
       "version_major": 2,
       "version_minor": 0
      },
      "text/plain": [
       "Fetching 12 files:   0%|          | 0/12 [00:00<?, ?it/s]"
      ]
     },
     "metadata": {},
     "output_type": "display_data"
    },
    {
     "data": {
      "application/vnd.jupyter.widget-view+json": {
       "model_id": "fe71a82a94d041628b8648a7968ea970",
       "version_major": 2,
       "version_minor": 0
      },
      "text/plain": [
       "consolidated.safetensors:   0%|          | 0.00/48.5G [00:00<?, ?B/s]"
      ]
     },
     "metadata": {},
     "output_type": "display_data"
    }
   ],
   "source": [
    "for model in safetensors_models:\n",
    "    download_safetensors(model)"
   ]
  }
 ],
 "metadata": {
  "kernelspec": {
   "display_name": "nix",
   "language": "python",
   "name": "nix"
  },
  "language_info": {
   "codemirror_mode": {
    "name": "ipython",
    "version": 3
   },
   "file_extension": ".py",
   "mimetype": "text/x-python",
   "name": "python",
   "nbconvert_exporter": "python",
   "pygments_lexer": "ipython3",
   "version": "3.12.11"
  }
 },
 "nbformat": 4,
 "nbformat_minor": 5
}
