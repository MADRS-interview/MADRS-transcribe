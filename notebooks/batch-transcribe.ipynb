{
 "cells": [
  {
   "cell_type": "markdown",
   "id": "65ee40c5-cb8d-4a29-8037-49389067dfed",
   "metadata": {},
   "source": [
    "# Whisper batch"
   ]
  },
  {
   "cell_type": "markdown",
   "id": "c9ebc9b0-6955-4e6e-bafd-0da94a090887",
   "metadata": {},
   "source": [
    "Some quick imports and setting the working directory to coincide with the `git` root, and import our `transcribe` module."
   ]
  },
  {
   "cell_type": "code",
   "execution_count": 1,
   "id": "c4197807-b2ba-4aa4-9a77-b3a96512ac3d",
   "metadata": {},
   "outputs": [
    {
     "name": "stderr",
     "output_type": "stream",
     "text": [
      "INFO:speechbrain.utils.quirks:Applied quirks (see `speechbrain.utils.quirks`): [disable_jit_profiling, allow_tf32]\n",
      "INFO:speechbrain.utils.quirks:Excluded quirks specified by the `SB_DISABLE_QUIRKS` environment (comma-separated list): []\n"
     ]
    }
   ],
   "source": [
    "import subprocess\n",
    "import os\n",
    "import requests\n",
    "import librosa\n",
    "import torch\n",
    "import warnings\n",
    "import sys\n",
    "\n",
    "from git import Repo\n",
    "from transformers import pipeline\n",
    "from datasets import load_dataset\n",
    "from IPython.display import Audio\n",
    "\n",
    "from pyannote.audio import Pipeline as Pyannote_Pipeline\n",
    "from pyannote.audio.pipelines.utils.hook import ProgressHook\n",
    "\n",
    "\n",
    "\n",
    "os.chdir(subprocess\n",
    "         .check_output([\"git\", \"rev-parse\", \"--show-toplevel\"])\n",
    "         .decode('utf-8')\n",
    "         .strip())\n",
    "\n",
    "sys.path.append(\"src/madrs-transcribe/\")\n",
    "import transcribe\n",
    "\n",
    "if not Repo(\"data\").head.commit.hexsha == '5222be26ac04c2e2d498373a78372d6072faf080':\n",
    "    warnings.warn(\"Data repository not in the same state as when this notebook was written.\")"
   ]
  },
  {
   "cell_type": "code",
   "execution_count": 2,
   "id": "57b23187-18de-4d76-8709-df99a1dcc1b8",
   "metadata": {},
   "outputs": [
    {
     "name": "stdout",
     "output_type": "stream",
     "text": [
      "recordings to transcribe:\n"
     ]
    },
    {
     "data": {
      "text/plain": [
       "['MAD-007.wav',\n",
       " 'MAD-002.wav',\n",
       " 'MAD-005.wav',\n",
       " 'MAD-006.wav',\n",
       " 'MAD-003.wav',\n",
       " 'MAD-001.wav',\n",
       " 'MAD-004.wav']"
      ]
     },
     "execution_count": 2,
     "metadata": {},
     "output_type": "execute_result"
    }
   ],
   "source": [
    "recordings_dir = \"data/interviews/audio/ambient\"\n",
    "out_dir = \"temp/outfiles/diarized\"\n",
    "os.makedirs(out_dir, exist_ok=True)\n",
    "recordings = [recording for recording in os.listdir(recordings_dir) if recording.endswith(\".wav\")]\n",
    "print(\"recordings to transcribe:\")\n",
    "recordings"
   ]
  },
  {
   "cell_type": "code",
   "execution_count": 3,
   "id": "8908fee6-4f66-4fea-9272-121527625b2d",
   "metadata": {},
   "outputs": [
    {
     "name": "stdout",
     "output_type": "stream",
     "text": [
      "Beginning batch transcription...\n",
      "Transcribing MAD-007.wav...\n"
     ]
    },
    {
     "name": "stderr",
     "output_type": "stream",
     "text": [
      "/home/kerry/miniconda3/envs/madrs-ai/lib/python3.11/site-packages/pyannote/audio/utils/reproducibility.py:74: ReproducibilityWarning: TensorFloat-32 (TF32) has been disabled as it might lead to reproducibility issues and lower accuracy.\n",
      "It can be re-enabled by calling\n",
      "   >>> import torch\n",
      "   >>> torch.backends.cuda.matmul.allow_tf32 = True\n",
      "   >>> torch.backends.cudnn.allow_tf32 = True\n",
      "See https://github.com/pyannote/pyannote-audio/issues/1370 for more details.\n",
      "\n",
      "  warnings.warn(\n",
      "/home/kerry/miniconda3/envs/madrs-ai/lib/python3.11/site-packages/pyannote/audio/models/blocks/pooling.py:104: UserWarning: std(): degrees of freedom is <= 0. Correction should be strictly less than the reduction factor (input numel divided by output numel). (Triggered internally at /opt/conda/conda-bld/pytorch_1729647369228/work/aten/src/ATen/native/ReduceOps.cpp:1823.)\n",
      "  std = sequences.std(dim=-1, correction=1)\n",
      "/home/kerry/miniconda3/envs/madrs-ai/lib/python3.11/site-packages/transformers/models/whisper/generation_whisper.py:509: FutureWarning: The input name `inputs` is deprecated. Please make sure to use `input_features` instead.\n",
      "  warnings.warn(\n",
      "You have passed language=english, but also have set `forced_decoder_ids` to [[1, None], [2, 50360]] which creates a conflict. `forced_decoder_ids` will be ignored in favor of language=english.\n",
      "You seem to be using the pipelines sequentially on GPU. In order to maximize efficiency please use a dataset\n"
     ]
    },
    {
     "name": "stdout",
     "output_type": "stream",
     "text": [
      "Writing transcription to temp/outfiles/diarized/MAD-007.txt...\n",
      "Transcribing MAD-002.wav...\n"
     ]
    },
    {
     "name": "stderr",
     "output_type": "stream",
     "text": [
      "/home/kerry/miniconda3/envs/madrs-ai/lib/python3.11/site-packages/pyannote/audio/models/blocks/pooling.py:104: UserWarning: std(): degrees of freedom is <= 0. Correction should be strictly less than the reduction factor (input numel divided by output numel). (Triggered internally at /opt/conda/conda-bld/pytorch_1729647369228/work/aten/src/ATen/native/ReduceOps.cpp:1823.)\n",
      "  std = sequences.std(dim=-1, correction=1)\n",
      "/home/kerry/miniconda3/envs/madrs-ai/lib/python3.11/site-packages/transformers/models/whisper/generation_whisper.py:509: FutureWarning: The input name `inputs` is deprecated. Please make sure to use `input_features` instead.\n",
      "  warnings.warn(\n"
     ]
    },
    {
     "name": "stdout",
     "output_type": "stream",
     "text": [
      "Writing transcription to temp/outfiles/diarized/MAD-002.txt...\n",
      "Transcribing MAD-005.wav...\n"
     ]
    },
    {
     "name": "stderr",
     "output_type": "stream",
     "text": [
      "/home/kerry/miniconda3/envs/madrs-ai/lib/python3.11/site-packages/pyannote/audio/models/blocks/pooling.py:104: UserWarning: std(): degrees of freedom is <= 0. Correction should be strictly less than the reduction factor (input numel divided by output numel). (Triggered internally at /opt/conda/conda-bld/pytorch_1729647369228/work/aten/src/ATen/native/ReduceOps.cpp:1823.)\n",
      "  std = sequences.std(dim=-1, correction=1)\n",
      "/home/kerry/miniconda3/envs/madrs-ai/lib/python3.11/site-packages/transformers/models/whisper/generation_whisper.py:509: FutureWarning: The input name `inputs` is deprecated. Please make sure to use `input_features` instead.\n",
      "  warnings.warn(\n"
     ]
    },
    {
     "name": "stdout",
     "output_type": "stream",
     "text": [
      "Writing transcription to temp/outfiles/diarized/MAD-005.txt...\n",
      "Transcribing MAD-006.wav...\n"
     ]
    },
    {
     "name": "stderr",
     "output_type": "stream",
     "text": [
      "/home/kerry/miniconda3/envs/madrs-ai/lib/python3.11/site-packages/pyannote/audio/models/blocks/pooling.py:104: UserWarning: std(): degrees of freedom is <= 0. Correction should be strictly less than the reduction factor (input numel divided by output numel). (Triggered internally at /opt/conda/conda-bld/pytorch_1729647369228/work/aten/src/ATen/native/ReduceOps.cpp:1823.)\n",
      "  std = sequences.std(dim=-1, correction=1)\n",
      "/home/kerry/miniconda3/envs/madrs-ai/lib/python3.11/site-packages/transformers/models/whisper/generation_whisper.py:509: FutureWarning: The input name `inputs` is deprecated. Please make sure to use `input_features` instead.\n",
      "  warnings.warn(\n"
     ]
    },
    {
     "name": "stdout",
     "output_type": "stream",
     "text": [
      "Writing transcription to temp/outfiles/diarized/MAD-006.txt...\n",
      "Transcribing MAD-003.wav...\n"
     ]
    },
    {
     "name": "stderr",
     "output_type": "stream",
     "text": [
      "/home/kerry/miniconda3/envs/madrs-ai/lib/python3.11/site-packages/pyannote/audio/models/blocks/pooling.py:104: UserWarning: std(): degrees of freedom is <= 0. Correction should be strictly less than the reduction factor (input numel divided by output numel). (Triggered internally at /opt/conda/conda-bld/pytorch_1729647369228/work/aten/src/ATen/native/ReduceOps.cpp:1823.)\n",
      "  std = sequences.std(dim=-1, correction=1)\n",
      "/home/kerry/miniconda3/envs/madrs-ai/lib/python3.11/site-packages/transformers/models/whisper/generation_whisper.py:509: FutureWarning: The input name `inputs` is deprecated. Please make sure to use `input_features` instead.\n",
      "  warnings.warn(\n"
     ]
    },
    {
     "name": "stdout",
     "output_type": "stream",
     "text": [
      "Writing transcription to temp/outfiles/diarized/MAD-003.txt...\n",
      "Transcribing MAD-001.wav...\n"
     ]
    },
    {
     "name": "stderr",
     "output_type": "stream",
     "text": [
      "/home/kerry/miniconda3/envs/madrs-ai/lib/python3.11/site-packages/pyannote/audio/models/blocks/pooling.py:104: UserWarning: std(): degrees of freedom is <= 0. Correction should be strictly less than the reduction factor (input numel divided by output numel). (Triggered internally at /opt/conda/conda-bld/pytorch_1729647369228/work/aten/src/ATen/native/ReduceOps.cpp:1823.)\n",
      "  std = sequences.std(dim=-1, correction=1)\n",
      "/home/kerry/miniconda3/envs/madrs-ai/lib/python3.11/site-packages/transformers/models/whisper/generation_whisper.py:509: FutureWarning: The input name `inputs` is deprecated. Please make sure to use `input_features` instead.\n",
      "  warnings.warn(\n"
     ]
    },
    {
     "name": "stdout",
     "output_type": "stream",
     "text": [
      "Writing transcription to temp/outfiles/diarized/MAD-001.txt...\n",
      "Transcribing MAD-004.wav...\n"
     ]
    },
    {
     "name": "stderr",
     "output_type": "stream",
     "text": [
      "/home/kerry/miniconda3/envs/madrs-ai/lib/python3.11/site-packages/pyannote/audio/models/blocks/pooling.py:104: UserWarning: std(): degrees of freedom is <= 0. Correction should be strictly less than the reduction factor (input numel divided by output numel). (Triggered internally at /opt/conda/conda-bld/pytorch_1729647369228/work/aten/src/ATen/native/ReduceOps.cpp:1823.)\n",
      "  std = sequences.std(dim=-1, correction=1)\n",
      "/home/kerry/miniconda3/envs/madrs-ai/lib/python3.11/site-packages/transformers/models/whisper/generation_whisper.py:509: FutureWarning: The input name `inputs` is deprecated. Please make sure to use `input_features` instead.\n",
      "  warnings.warn(\n"
     ]
    },
    {
     "name": "stdout",
     "output_type": "stream",
     "text": [
      "Writing transcription to temp/outfiles/diarized/MAD-004.txt...\n"
     ]
    }
   ],
   "source": [
    "print(\"Beginning batch transcription...\")\n",
    "for recording in recordings:\n",
    "    print(\"Transcribing \" + recording + \"...\")\n",
    "    transcription = transcribe.Pipeline()(os.path.join(recordings_dir, recording))\n",
    "    transcription_path = os.path.join(out_dir, os.path.splitext(recording)[0] + \".txt\")\n",
    "    print(\"Writing transcription to \" + transcription_path + \"...\")\n",
    "    with open(transcription_path, \"w\", encoding = \"utf8\") as transcription_file:\n",
    "        transcription_file.write(transcription)"
   ]
  },
  {
   "cell_type": "code",
   "execution_count": 5,
   "id": "a3eb9102-622f-4d81-b751-34f83f392809",
   "metadata": {},
   "outputs": [
    {
     "name": "stdout",
     "output_type": "stream",
     "text": [
      "Beginning batch transcription (undiarized)...\n",
      "Transcribing MAD-007.wav...\n",
      "Writing transcription to temp/outfiles/undiarized/MAD-007.txt...\n",
      "Transcribing MAD-002.wav...\n",
      "Writing transcription to temp/outfiles/undiarized/MAD-002.txt...\n",
      "Transcribing MAD-005.wav...\n",
      "Writing transcription to temp/outfiles/undiarized/MAD-005.txt...\n",
      "Transcribing MAD-006.wav...\n",
      "Writing transcription to temp/outfiles/undiarized/MAD-006.txt...\n",
      "Transcribing MAD-003.wav...\n",
      "Writing transcription to temp/outfiles/undiarized/MAD-003.txt...\n",
      "Transcribing MAD-001.wav...\n",
      "Writing transcription to temp/outfiles/undiarized/MAD-001.txt...\n",
      "Transcribing MAD-004.wav...\n",
      "Writing transcription to temp/outfiles/undiarized/MAD-004.txt...\n"
     ]
    }
   ],
   "source": [
    "out_dir = \"temp/outfiles/undiarized\"\n",
    "os.makedirs(out_dir, exist_ok=True)\n",
    "print(\"Beginning batch transcription (undiarized)...\")\n",
    "for recording in recordings:\n",
    "    print(\"Transcribing \" + recording + \"...\")\n",
    "    transcription = transcribe.Pipeline(diarize = False)(os.path.join(recordings_dir, recording))\n",
    "    transcription_path = os.path.join(out_dir, os.path.splitext(recording)[0] + \".txt\")\n",
    "    print(\"Writing transcription to \" + transcription_path + \"...\")\n",
    "    with open(transcription_path, \"w\", encoding = \"utf8\") as transcription_file:\n",
    "        transcription_file.write(transcription)"
   ]
  }
 ],
 "metadata": {
  "kernelspec": {
   "display_name": "madrs-ai",
   "language": "python",
   "name": "madrs-ai"
  },
  "language_info": {
   "codemirror_mode": {
    "name": "ipython",
    "version": 3
   },
   "file_extension": ".py",
   "mimetype": "text/x-python",
   "name": "python",
   "nbconvert_exporter": "python",
   "pygments_lexer": "ipython3",
   "version": "3.11.9"
  }
 },
 "nbformat": 4,
 "nbformat_minor": 5
}
